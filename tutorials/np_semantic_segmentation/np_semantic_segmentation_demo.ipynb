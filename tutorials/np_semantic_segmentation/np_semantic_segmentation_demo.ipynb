{
 "cells": [
  {
   "cell_type": "markdown",
   "metadata": {
    "collapsed": true
   },
   "source": [
    "# NP Semantic Segmentation"
   ]
  },
  {
   "cell_type": "markdown",
   "metadata": {},
   "source": [
    "Let's import all the relevant classes"
   ]
  },
  {
   "cell_type": "code",
   "execution_count": 1,
   "metadata": {},
   "outputs": [
    {
     "data": {
      "text/plain": [
       "'/Users/ayaccobi/ai-lab-nlp'"
      ]
     },
     "execution_count": 1,
     "metadata": {},
     "output_type": "execute_result"
    }
   ],
   "source": [
    "import os\n",
    "os.chdir(os.path.dirname(os.path.dirname(os.getcwd())))\n",
    "os.getcwd()"
   ]
  },
  {
   "cell_type": "code",
   "execution_count": 7,
   "metadata": {},
   "outputs": [],
   "source": [
    "import examples"
   ]
  },
  {
   "cell_type": "code",
   "execution_count": 2,
   "metadata": {},
   "outputs": [
    {
     "name": "stderr",
     "output_type": "stream",
     "text": [
      "Using TensorFlow backend.\n"
     ]
    }
   ],
   "source": [
    "from examples.np_semantic_segmentation.data import NpSemanticSegData\n",
    "from examples.np_semantic_segmentation.preprocess_tratz2011 import *\n",
    "from examples.np_semantic_segmentation.data import *\n",
    "from nlp_architect.models.np_semantic_segmentation import NpSemanticSegClassifier"
   ]
  },
  {
   "cell_type": "markdown",
   "metadata": {},
   "source": [
    "## Preparing the data"
   ]
  },
  {
   "cell_type": "markdown",
   "metadata": {},
   "source": [
    "The first step is the download the dataset into a folder. You can download Tratz 2011 et al. dataset from the following link: [Tratz 2011 Dataset](https://vered1986.github.io/papers/Tratz2011_Dataset.tar.gz). Is also available in [here](https://www.isi.edu/publications/licensed-sw/fanseparser/index.html). (The terms and conditions of the data set license apply. Intel does not grant any rights to the data files or database)."
   ]
  },
  {
   "cell_type": "markdown",
   "metadata": {},
   "source": [
    "After downloading and unzipping the dataset, the following method will labels some portion of the data, and will output two `.csv` files that will assist us to train and evaluate the trained model."
   ]
  },
  {
   "cell_type": "code",
   "execution_count": 3,
   "metadata": {},
   "outputs": [
    {
     "name": "stdout",
     "output_type": "stream",
     "text": [
      "CSV file is saved in /Users/ayaccobi/nlp_architect/data/np_semantic_segmentation/tratz2011_coarse_grained_random/train.csv\n",
      "CSV file is saved in /Users/ayaccobi/nlp_architect/data/np_semantic_segmentation/tratz2011_coarse_grained_random/val.csv\n"
     ]
    }
   ],
   "source": [
    "dataset_path = '/Users/ayaccobi/nlp_architect/data/np_semantic_segmentation'\n",
    "preprocess_tratz_2011(dataset_path)"
   ]
  },
  {
   "cell_type": "markdown",
   "metadata": {},
   "source": [
    "Once the dataset is saved and labeled we need to vectories the data:"
   ]
  },
  {
   "cell_type": "code",
   "execution_count": 4,
   "metadata": {},
   "outputs": [],
   "source": [
    "# labeled_data_path is the output of preprocess_tratz_2011()\n",
    "labeled_train_data_path = '/Users/ayaccobi/nlp_architect/data/np_semantic_segmentation/tratz2011_coarse_grained_random/train.csv'\n",
    "labeled_val_data_path = '/Users/ayaccobi/nlp_architect/data/np_semantic_segmentation/tratz2011_coarse_grained_random/val.csv'\n",
    "word2vec_path = '/Users/ayaccobi/workspace/word_embeddings/GoogleNews-vectors-negative300.bin.gz'\n",
    "# output_path is location to save the vectors\n",
    "train_output_path = '/Users/ayaccobi/nlp_architect/data/np_semantic_segmentation/prepared_data_train.csv'\n",
    "val_output_path = '/Users/ayaccobi/nlp_architect/data/np_semantic_segmentation/prepared_data_val.csv'\n",
    "http_proxy = None\n",
    "https_proxy = None"
   ]
  },
  {
   "cell_type": "code",
   "execution_count": null,
   "metadata": {},
   "outputs": [
    {
     "name": "stdout",
     "output_type": "stream",
     "text": [
      "Start loading NLTK Collocation scoring (this might take a while...)\n",
      "Start loading Word2Vec model (this might take a while...)\n"
     ]
    }
   ],
   "source": [
    "\n",
    "prepare_data(labeled_train_data_path, train_output_path, word2vec_path, http_proxy, https_proxy)\n",
    "prepare_data(labeled_val_data_path, val_output_path, word2vec_path, http_proxy, https_proxy)"
   ]
  },
  {
   "cell_type": "markdown",
   "metadata": {},
   "source": [
    "We now need to load the data into NpSemanticSegmentation object."
   ]
  },
  {
   "cell_type": "code",
   "execution_count": 17,
   "metadata": {},
   "outputs": [],
   "source": [
    "data_set = NpSemanticSegData(train_output_path, train_to_test_ratio=0.8)"
   ]
  },
  {
   "cell_type": "markdown",
   "metadata": {},
   "source": [
    "## Build the model"
   ]
  },
  {
   "cell_type": "code",
   "execution_count": 22,
   "metadata": {},
   "outputs": [
    {
     "name": "stdout",
     "output_type": "stream",
     "text": [
      "Epoch 1/200\n",
      " - 0s - loss: 1.1516 - binary_accuracy: 0.6977 - precision_score: 0.2126 - recall_score: 0.1663 - f1: 0.1866\n",
      "Epoch 2/200\n",
      " - 0s - loss: 1.0157 - binary_accuracy: 0.7558 - precision_score: 0.2481 - recall_score: 0.0807 - f1: 0.1215\n",
      "Epoch 3/200\n",
      " - 0s - loss: 0.8626 - binary_accuracy: 0.7946 - precision_score: 0.7442 - recall_score: 0.0846 - f1: 0.1424\n",
      "Epoch 4/200\n",
      " - 0s - loss: 1.0398 - binary_accuracy: 0.7907 - precision_score: 0.4961 - recall_score: 0.0191 - f1: 0.0367\n",
      "Epoch 5/200\n",
      " - 0s - loss: 1.0024 - binary_accuracy: 0.7907 - precision_score: 0.0000e+00 - recall_score: 0.0000e+00 - f1: 0.0000e+00\n",
      "Epoch 6/200\n",
      " - 0s - loss: 0.9380 - binary_accuracy: 0.7907 - precision_score: 0.4961 - recall_score: 0.0372 - f1: 0.0692\n",
      "Epoch 7/200\n",
      " - 0s - loss: 1.0358 - binary_accuracy: 0.7868 - precision_score: 0.4134 - recall_score: 0.0368 - f1: 0.0674\n",
      "Epoch 8/200\n",
      " - 0s - loss: 0.9215 - binary_accuracy: 0.7907 - precision_score: 0.0000e+00 - recall_score: 0.0000e+00 - f1: 0.0000e+00\n",
      "Epoch 9/200\n",
      " - 0s - loss: 0.8713 - binary_accuracy: 0.7984 - precision_score: 0.4961 - recall_score: 0.0382 - f1: 0.0709\n",
      "Epoch 10/200\n",
      " - 0s - loss: 0.8581 - binary_accuracy: 0.7946 - precision_score: 0.4961 - recall_score: 0.0171 - f1: 0.0331\n",
      "Epoch 11/200\n",
      " - 0s - loss: 0.9229 - binary_accuracy: 0.7907 - precision_score: 0.0000e+00 - recall_score: 0.0000e+00 - f1: 0.0000e+00\n",
      "Epoch 12/200\n",
      " - 0s - loss: 0.9478 - binary_accuracy: 0.7907 - precision_score: 0.0000e+00 - recall_score: 0.0000e+00 - f1: 0.0000e+00\n",
      "Epoch 13/200\n",
      " - 0s - loss: 0.8634 - binary_accuracy: 0.7907 - precision_score: 0.0000e+00 - recall_score: 0.0000e+00 - f1: 0.0000e+00\n",
      "Epoch 14/200\n",
      " - 0s - loss: 0.9654 - binary_accuracy: 0.7868 - precision_score: 0.0000e+00 - recall_score: 0.0000e+00 - f1: 0.0000e+00\n",
      "Epoch 15/200\n",
      " - 0s - loss: 0.8908 - binary_accuracy: 0.7984 - precision_score: 0.8269 - recall_score: 0.0574 - f1: 0.1051\n",
      "Epoch 16/200\n",
      " - 0s - loss: 0.8326 - binary_accuracy: 0.7984 - precision_score: 0.8269 - recall_score: 0.0565 - f1: 0.1039\n",
      "Epoch 17/200\n",
      " - 0s - loss: 0.8711 - binary_accuracy: 0.8023 - precision_score: 0.4961 - recall_score: 0.0513 - f1: 0.0930\n",
      "Epoch 18/200\n",
      " - 0s - loss: 0.8618 - binary_accuracy: 0.7984 - precision_score: 0.7442 - recall_score: 0.0551 - f1: 0.1026\n",
      "Epoch 19/200\n",
      " - 0s - loss: 0.8873 - binary_accuracy: 0.7984 - precision_score: 0.4961 - recall_score: 0.0397 - f1: 0.0735\n",
      "Epoch 20/200\n",
      " - 0s - loss: 0.8605 - binary_accuracy: 0.7984 - precision_score: 0.4961 - recall_score: 0.0320 - f1: 0.0601\n",
      "Epoch 21/200\n",
      " - 0s - loss: 0.8670 - binary_accuracy: 0.7984 - precision_score: 0.4961 - recall_score: 0.0331 - f1: 0.0620\n",
      "Epoch 22/200\n",
      " - 0s - loss: 0.8014 - binary_accuracy: 0.8140 - precision_score: 0.9922 - recall_score: 0.1104 - f1: 0.1987\n",
      "Epoch 23/200\n",
      " - 0s - loss: 0.8514 - binary_accuracy: 0.8023 - precision_score: 0.9922 - recall_score: 0.0597 - f1: 0.1114\n",
      "Epoch 24/200\n",
      " - 0s - loss: 0.8494 - binary_accuracy: 0.8101 - precision_score: 0.9922 - recall_score: 0.0931 - f1: 0.1702\n",
      "Epoch 25/200\n",
      " - 0s - loss: 0.8434 - binary_accuracy: 0.8140 - precision_score: 0.9922 - recall_score: 0.1102 - f1: 0.1984\n",
      "Epoch 26/200\n",
      " - 0s - loss: 0.8411 - binary_accuracy: 0.8178 - precision_score: 0.9922 - recall_score: 0.1295 - f1: 0.2283\n",
      "Epoch 27/200\n",
      " - 0s - loss: 0.8462 - binary_accuracy: 0.7868 - precision_score: 0.4961 - recall_score: 0.0191 - f1: 0.0367\n",
      "Epoch 28/200\n",
      " - 0s - loss: 0.8400 - binary_accuracy: 0.8023 - precision_score: 0.7442 - recall_score: 0.0703 - f1: 0.1284\n",
      "Epoch 29/200\n",
      " - 0s - loss: 0.8265 - binary_accuracy: 0.8372 - precision_score: 0.9922 - recall_score: 0.2208 - f1: 0.3611\n",
      "Epoch 30/200\n",
      " - 0s - loss: 0.8181 - binary_accuracy: 0.8256 - precision_score: 0.8346 - recall_score: 0.1621 - f1: 0.2674\n",
      "Epoch 31/200\n",
      " - 0s - loss: 0.8261 - binary_accuracy: 0.8217 - precision_score: 0.9922 - recall_score: 0.1505 - f1: 0.2584\n",
      "Epoch 32/200\n",
      " - 0s - loss: 0.8073 - binary_accuracy: 0.8256 - precision_score: 1.0000 - recall_score: 0.1601 - f1: 0.2692\n",
      "Epoch 33/200\n",
      " - 0s - loss: 0.8266 - binary_accuracy: 0.8178 - precision_score: 0.9922 - recall_score: 0.1258 - f1: 0.2211\n",
      "Epoch 34/200\n",
      " - 0s - loss: 0.7189 - binary_accuracy: 0.8411 - precision_score: 0.9922 - recall_score: 0.2359 - f1: 0.3807\n",
      "Epoch 35/200\n",
      " - 0s - loss: 0.8038 - binary_accuracy: 0.8256 - precision_score: 0.9922 - recall_score: 0.1677 - f1: 0.2867\n",
      "Epoch 36/200\n",
      " - 0s - loss: 0.7462 - binary_accuracy: 0.8256 - precision_score: 0.9096 - recall_score: 0.1840 - f1: 0.3054\n",
      "Epoch 37/200\n",
      " - 0s - loss: 0.7970 - binary_accuracy: 0.8411 - precision_score: 0.9922 - recall_score: 0.2398 - f1: 0.3862\n",
      "Epoch 38/200\n",
      " - 0s - loss: 0.8089 - binary_accuracy: 0.8411 - precision_score: 0.9922 - recall_score: 0.2523 - f1: 0.4016\n",
      "Epoch 39/200\n",
      " - 0s - loss: 0.7863 - binary_accuracy: 0.8372 - precision_score: 0.9922 - recall_score: 0.2272 - f1: 0.3608\n",
      "Epoch 40/200\n",
      " - 0s - loss: 0.7177 - binary_accuracy: 0.8372 - precision_score: 0.9922 - recall_score: 0.2182 - f1: 0.3562\n",
      "Epoch 41/200\n",
      " - 0s - loss: 0.7745 - binary_accuracy: 0.8527 - precision_score: 0.9922 - recall_score: 0.2998 - f1: 0.4605\n",
      "Epoch 42/200\n",
      " - 0s - loss: 0.7097 - binary_accuracy: 0.8527 - precision_score: 0.9096 - recall_score: 0.2988 - f1: 0.4478\n",
      "Epoch 43/200\n",
      " - 0s - loss: 0.8248 - binary_accuracy: 0.8798 - precision_score: 0.9568 - recall_score: 0.4498 - f1: 0.6118\n",
      "Epoch 44/200\n",
      " - 0s - loss: 0.8226 - binary_accuracy: 0.8527 - precision_score: 0.9549 - recall_score: 0.3171 - f1: 0.4614\n",
      "Epoch 45/200\n",
      " - 0s - loss: 0.7547 - binary_accuracy: 0.8876 - precision_score: 0.9922 - recall_score: 0.4593 - f1: 0.6280\n",
      "Epoch 46/200\n",
      " - 0s - loss: 0.7627 - binary_accuracy: 0.8837 - precision_score: 0.9922 - recall_score: 0.4452 - f1: 0.6143\n",
      "Epoch 47/200\n",
      " - 0s - loss: 0.6580 - binary_accuracy: 0.8837 - precision_score: 0.9922 - recall_score: 0.4430 - f1: 0.6106\n",
      "Epoch 48/200\n",
      " - 0s - loss: 0.6851 - binary_accuracy: 0.8915 - precision_score: 0.9922 - recall_score: 0.4796 - f1: 0.6465\n",
      "Epoch 49/200\n",
      " - 0s - loss: 0.6851 - binary_accuracy: 0.8953 - precision_score: 0.9471 - recall_score: 0.5130 - f1: 0.6556\n",
      "Epoch 50/200\n",
      " - 0s - loss: 0.7162 - binary_accuracy: 0.8876 - precision_score: 0.9922 - recall_score: 0.4548 - f1: 0.6226\n",
      "Epoch 51/200\n",
      " - 0s - loss: 0.7619 - binary_accuracy: 0.8876 - precision_score: 0.9302 - recall_score: 0.5003 - f1: 0.6506\n",
      "Epoch 52/200\n",
      " - 0s - loss: 0.6468 - binary_accuracy: 0.9225 - precision_score: 0.9922 - recall_score: 0.6221 - f1: 0.7646\n",
      "Epoch 53/200\n",
      " - 0s - loss: 0.7029 - binary_accuracy: 0.8837 - precision_score: 0.8708 - recall_score: 0.5147 - f1: 0.6462\n",
      "Epoch 54/200\n",
      " - 0s - loss: 0.6853 - binary_accuracy: 0.9031 - precision_score: 0.9416 - recall_score: 0.6183 - f1: 0.7373\n",
      "Epoch 55/200\n",
      " - 0s - loss: 0.7857 - binary_accuracy: 0.8915 - precision_score: 0.9258 - recall_score: 0.5138 - f1: 0.6607\n",
      "Epoch 56/200\n",
      " - 0s - loss: 0.7195 - binary_accuracy: 0.8992 - precision_score: 0.9592 - recall_score: 0.5416 - f1: 0.6903\n",
      "Epoch 57/200\n",
      " - 0s - loss: 0.6936 - binary_accuracy: 0.8837 - precision_score: 0.9199 - recall_score: 0.4757 - f1: 0.6255\n",
      "Epoch 58/200\n",
      " - 0s - loss: 0.7005 - binary_accuracy: 0.9264 - precision_score: 0.9922 - recall_score: 0.6398 - f1: 0.7771\n",
      "Epoch 59/200\n",
      " - 0s - loss: 0.6482 - binary_accuracy: 0.9147 - precision_score: 0.9302 - recall_score: 0.6202 - f1: 0.7442\n",
      "Epoch 60/200\n",
      " - 0s - loss: 0.6895 - binary_accuracy: 0.8992 - precision_score: 0.9669 - recall_score: 0.5336 - f1: 0.6858\n",
      "Epoch 61/200\n",
      " - 0s - loss: 0.6541 - binary_accuracy: 0.9070 - precision_score: 0.9922 - recall_score: 0.5803 - f1: 0.7310\n",
      "Epoch 62/200\n",
      " - 0s - loss: 0.6315 - binary_accuracy: 0.9264 - precision_score: 0.9922 - recall_score: 0.6461 - f1: 0.7798\n",
      "Epoch 63/200\n",
      " - 0s - loss: 0.6089 - binary_accuracy: 0.9264 - precision_score: 0.9631 - recall_score: 0.6597 - f1: 0.7826\n",
      "Epoch 64/200\n",
      " - 0s - loss: 0.6851 - binary_accuracy: 0.9264 - precision_score: 0.9661 - recall_score: 0.6624 - f1: 0.7852\n",
      "Epoch 65/200\n",
      " - 0s - loss: 0.6189 - binary_accuracy: 0.9186 - precision_score: 0.9587 - recall_score: 0.6160 - f1: 0.7497\n",
      "Epoch 66/200\n",
      " - 0s - loss: 0.6154 - binary_accuracy: 0.9186 - precision_score: 0.9339 - recall_score: 0.6573 - f1: 0.7697\n",
      "Epoch 67/200\n",
      " - 0s - loss: 0.7004 - binary_accuracy: 0.9186 - precision_score: 0.9674 - recall_score: 0.6229 - f1: 0.7558\n"
     ]
    },
    {
     "name": "stdout",
     "output_type": "stream",
     "text": [
      "Epoch 68/200\n",
      " - 0s - loss: 0.7160 - binary_accuracy: 0.9302 - precision_score: 0.9425 - recall_score: 0.7028 - f1: 0.8045\n",
      "Epoch 69/200\n",
      " - 0s - loss: 0.7505 - binary_accuracy: 0.9186 - precision_score: 0.9383 - recall_score: 0.6554 - f1: 0.7696\n",
      "Epoch 70/200\n",
      " - 0s - loss: 0.7990 - binary_accuracy: 0.9225 - precision_score: 0.9249 - recall_score: 0.6685 - f1: 0.7713\n",
      "Epoch 71/200\n",
      " - 0s - loss: 0.6200 - binary_accuracy: 0.9341 - precision_score: 0.9647 - recall_score: 0.7076 - f1: 0.8119\n",
      "Epoch 72/200\n",
      " - 0s - loss: 0.6708 - binary_accuracy: 0.9264 - precision_score: 0.9922 - recall_score: 0.6426 - f1: 0.7800\n",
      "Epoch 73/200\n",
      " - 0s - loss: 0.6822 - binary_accuracy: 0.9341 - precision_score: 0.9450 - recall_score: 0.7166 - f1: 0.8150\n",
      "Epoch 74/200\n",
      " - 0s - loss: 0.7917 - binary_accuracy: 0.9302 - precision_score: 0.9415 - recall_score: 0.6951 - f1: 0.7972\n",
      "Epoch 75/200\n",
      " - 0s - loss: 0.6559 - binary_accuracy: 0.9225 - precision_score: 0.9686 - recall_score: 0.6408 - f1: 0.7708\n",
      "Epoch 76/200\n",
      " - 0s - loss: 0.6836 - binary_accuracy: 0.9264 - precision_score: 0.9450 - recall_score: 0.6939 - f1: 0.8001\n",
      "Epoch 77/200\n",
      " - 0s - loss: 0.6261 - binary_accuracy: 0.9419 - precision_score: 1.0000 - recall_score: 0.7138 - f1: 0.8326\n",
      "Epoch 78/200\n",
      " - 0s - loss: 0.6621 - binary_accuracy: 0.9419 - precision_score: 0.9716 - recall_score: 0.7400 - f1: 0.8400\n",
      "Epoch 79/200\n",
      " - 0s - loss: 0.6505 - binary_accuracy: 0.9496 - precision_score: 0.9686 - recall_score: 0.7859 - f1: 0.8677\n",
      "Epoch 80/200\n",
      " - 0s - loss: 0.6494 - binary_accuracy: 0.9457 - precision_score: 0.9471 - recall_score: 0.7728 - f1: 0.8509\n",
      "Epoch 81/200\n",
      " - 0s - loss: 0.6392 - binary_accuracy: 0.9264 - precision_score: 0.9478 - recall_score: 0.6887 - f1: 0.7941\n",
      "Epoch 82/200\n",
      " - 0s - loss: 0.6117 - binary_accuracy: 0.9302 - precision_score: 0.9339 - recall_score: 0.6917 - f1: 0.7947\n",
      "Epoch 83/200\n",
      " - 0s - loss: 0.6980 - binary_accuracy: 0.9302 - precision_score: 0.9549 - recall_score: 0.6947 - f1: 0.7992\n",
      "Epoch 84/200\n",
      " - 0s - loss: 0.6135 - binary_accuracy: 0.9496 - precision_score: 0.9549 - recall_score: 0.7950 - f1: 0.8675\n",
      "Epoch 85/200\n",
      " - 0s - loss: 0.6229 - binary_accuracy: 0.9535 - precision_score: 0.9752 - recall_score: 0.7980 - f1: 0.8768\n",
      "Epoch 86/200\n",
      " - 0s - loss: 0.5882 - binary_accuracy: 0.9496 - precision_score: 0.9922 - recall_score: 0.7397 - f1: 0.8443\n",
      "Epoch 87/200\n",
      " - 0s - loss: 0.6038 - binary_accuracy: 0.9535 - precision_score: 0.9716 - recall_score: 0.7892 - f1: 0.8703\n",
      "Epoch 88/200\n",
      " - 0s - loss: 0.6102 - binary_accuracy: 0.9419 - precision_score: 0.9459 - recall_score: 0.7524 - f1: 0.8379\n",
      "Epoch 89/200\n",
      " - 0s - loss: 0.6408 - binary_accuracy: 0.9535 - precision_score: 0.9316 - recall_score: 0.8303 - f1: 0.8780\n",
      "Epoch 90/200\n",
      " - 0s - loss: 0.6017 - binary_accuracy: 0.9535 - precision_score: 0.9922 - recall_score: 0.7636 - f1: 0.8616\n",
      "Epoch 91/200\n",
      " - 0s - loss: 0.7234 - binary_accuracy: 0.9302 - precision_score: 0.9380 - recall_score: 0.7180 - f1: 0.8086\n",
      "Epoch 92/200\n",
      " - 0s - loss: 0.6325 - binary_accuracy: 0.9574 - precision_score: 1.0000 - recall_score: 0.7880 - f1: 0.8813\n",
      "Epoch 93/200\n",
      " - 0s - loss: 0.7064 - binary_accuracy: 0.9419 - precision_score: 0.9486 - recall_score: 0.7396 - f1: 0.8280\n",
      "Epoch 94/200\n",
      " - 0s - loss: 0.6437 - binary_accuracy: 0.9419 - precision_score: 0.9661 - recall_score: 0.7336 - f1: 0.8339\n",
      "Epoch 95/200\n",
      " - 0s - loss: 0.6156 - binary_accuracy: 0.9380 - precision_score: 0.9487 - recall_score: 0.7397 - f1: 0.8205\n",
      "Epoch 96/200\n",
      " - 0s - loss: 0.4422 - binary_accuracy: 0.9690 - precision_score: 0.9802 - recall_score: 0.8671 - f1: 0.9201\n",
      "Epoch 97/200\n",
      " - 0s - loss: 0.5841 - binary_accuracy: 0.9496 - precision_score: 0.9471 - recall_score: 0.8064 - f1: 0.8707\n",
      "Epoch 98/200\n",
      " - 0s - loss: 0.7258 - binary_accuracy: 0.9341 - precision_score: 0.9261 - recall_score: 0.7616 - f1: 0.8302\n",
      "Epoch 99/200\n",
      " - 0s - loss: 0.6018 - binary_accuracy: 0.9496 - precision_score: 0.9774 - recall_score: 0.7767 - f1: 0.8655\n",
      "Epoch 100/200\n",
      " - 0s - loss: 0.5678 - binary_accuracy: 0.9535 - precision_score: 0.9697 - recall_score: 0.7919 - f1: 0.8715\n",
      "Epoch 101/200\n",
      " - 0s - loss: 0.6413 - binary_accuracy: 0.9380 - precision_score: 0.9647 - recall_score: 0.7142 - f1: 0.8200\n",
      "Epoch 102/200\n",
      " - 0s - loss: 0.6609 - binary_accuracy: 0.9419 - precision_score: 0.9491 - recall_score: 0.7551 - f1: 0.8387\n",
      "Epoch 103/200\n",
      " - 0s - loss: 0.6132 - binary_accuracy: 0.9535 - precision_score: 0.9922 - recall_score: 0.7724 - f1: 0.8686\n",
      "Epoch 104/200\n",
      " - 0s - loss: 0.6109 - binary_accuracy: 0.9535 - precision_score: 1.0000 - recall_score: 0.7810 - f1: 0.8733\n",
      "Epoch 105/200\n",
      " - 0s - loss: 0.5017 - binary_accuracy: 0.9612 - precision_score: 0.9922 - recall_score: 0.8130 - f1: 0.8925\n",
      "Epoch 106/200\n",
      " - 0s - loss: 0.5996 - binary_accuracy: 0.9612 - precision_score: 0.9568 - recall_score: 0.8455 - f1: 0.8958\n",
      "Epoch 107/200\n",
      " - 0s - loss: 0.6278 - binary_accuracy: 0.9574 - precision_score: 0.9646 - recall_score: 0.7813 - f1: 0.8596\n",
      "Epoch 108/200\n",
      " - 0s - loss: 0.6116 - binary_accuracy: 0.9612 - precision_score: 0.9922 - recall_score: 0.8130 - f1: 0.8925\n",
      "Epoch 109/200\n",
      " - 0s - loss: 0.6249 - binary_accuracy: 0.9496 - precision_score: 0.9922 - recall_score: 0.7343 - f1: 0.8400\n",
      "Epoch 110/200\n",
      " - 0s - loss: 0.6127 - binary_accuracy: 0.9612 - precision_score: 0.9784 - recall_score: 0.8318 - f1: 0.8991\n",
      "Epoch 111/200\n",
      " - 0s - loss: 0.5395 - binary_accuracy: 0.9574 - precision_score: 0.9752 - recall_score: 0.8113 - f1: 0.8845\n",
      "Epoch 112/200\n",
      " - 0s - loss: 0.5590 - binary_accuracy: 0.9612 - precision_score: 0.9922 - recall_score: 0.7949 - f1: 0.8808\n",
      "Epoch 113/200\n",
      " - 0s - loss: 0.6162 - binary_accuracy: 0.9496 - precision_score: 0.9707 - recall_score: 0.7714 - f1: 0.8594\n",
      "Epoch 114/200\n",
      " - 0s - loss: 0.5549 - binary_accuracy: 0.9535 - precision_score: 0.9716 - recall_score: 0.7904 - f1: 0.8716\n",
      "Epoch 115/200\n",
      " - 0s - loss: 0.5802 - binary_accuracy: 0.9574 - precision_score: 0.9732 - recall_score: 0.8137 - f1: 0.8782\n",
      "Epoch 116/200\n",
      " - 0s - loss: 0.6133 - binary_accuracy: 0.9535 - precision_score: 0.9739 - recall_score: 0.8021 - f1: 0.8779\n",
      "Epoch 117/200\n",
      " - 0s - loss: 0.5848 - binary_accuracy: 0.9651 - precision_score: 0.9922 - recall_score: 0.8273 - f1: 0.9023\n",
      "Epoch 118/200\n",
      " - 0s - loss: 0.6365 - binary_accuracy: 0.9535 - precision_score: 0.9647 - recall_score: 0.7814 - f1: 0.8623\n",
      "Epoch 119/200\n",
      " - 0s - loss: 0.6014 - binary_accuracy: 0.9380 - precision_score: 1.0000 - recall_score: 0.6989 - f1: 0.8199\n",
      "Epoch 120/200\n",
      " - 0s - loss: 0.5684 - binary_accuracy: 0.9535 - precision_score: 0.9922 - recall_score: 0.7952 - f1: 0.8813\n",
      "Epoch 121/200\n",
      " - 0s - loss: 0.5978 - binary_accuracy: 0.9380 - precision_score: 0.9922 - recall_score: 0.6987 - f1: 0.8200\n",
      "Epoch 122/200\n",
      " - 0s - loss: 0.6127 - binary_accuracy: 0.9496 - precision_score: 0.9922 - recall_score: 0.7564 - f1: 0.8582\n",
      "Epoch 123/200\n",
      " - 0s - loss: 0.5996 - binary_accuracy: 0.9496 - precision_score: 0.9674 - recall_score: 0.7862 - f1: 0.8673\n",
      "Epoch 124/200\n",
      " - 0s - loss: 0.6786 - binary_accuracy: 0.9496 - precision_score: 0.9661 - recall_score: 0.7724 - f1: 0.8582\n",
      "Epoch 125/200\n",
      " - 0s - loss: 0.6178 - binary_accuracy: 0.9496 - precision_score: 0.9922 - recall_score: 0.7534 - f1: 0.8563\n",
      "Epoch 126/200\n",
      " - 0s - loss: 0.6159 - binary_accuracy: 0.9496 - precision_score: 0.9793 - recall_score: 0.7733 - f1: 0.8636\n",
      "Epoch 127/200\n",
      " - 0s - loss: 0.6755 - binary_accuracy: 0.9496 - precision_score: 0.9774 - recall_score: 0.7767 - f1: 0.8655\n",
      "Epoch 128/200\n",
      " - 0s - loss: 0.5824 - binary_accuracy: 0.9535 - precision_score: 1.0000 - recall_score: 0.7707 - f1: 0.8703\n",
      "Epoch 129/200\n",
      " - 0s - loss: 0.5821 - binary_accuracy: 0.9496 - precision_score: 0.9453 - recall_score: 0.8118 - f1: 0.8731\n",
      "Epoch 130/200\n",
      " - 0s - loss: 0.5634 - binary_accuracy: 0.9574 - precision_score: 0.9646 - recall_score: 0.8246 - f1: 0.8856\n",
      "Epoch 131/200\n",
      " - 0s - loss: 0.6050 - binary_accuracy: 0.9612 - precision_score: 0.9922 - recall_score: 0.8062 - f1: 0.8895\n",
      "Epoch 132/200\n",
      " - 0s - loss: 0.6059 - binary_accuracy: 0.9574 - precision_score: 0.9716 - recall_score: 0.8102 - f1: 0.8836\n",
      "Epoch 133/200\n",
      " - 0s - loss: 0.6719 - binary_accuracy: 0.9496 - precision_score: 0.9526 - recall_score: 0.7933 - f1: 0.8609\n",
      "Epoch 134/200\n",
      " - 0s - loss: 0.5380 - binary_accuracy: 0.9690 - precision_score: 0.9922 - recall_score: 0.8452 - f1: 0.9129\n"
     ]
    },
    {
     "name": "stdout",
     "output_type": "stream",
     "text": [
      "Epoch 135/200\n",
      " - 0s - loss: 0.5404 - binary_accuracy: 0.9651 - precision_score: 0.9674 - recall_score: 0.8419 - f1: 0.9003\n",
      "Epoch 136/200\n",
      " - 0s - loss: 0.5594 - binary_accuracy: 0.9651 - precision_score: 0.9922 - recall_score: 0.8316 - f1: 0.9046\n",
      "Epoch 137/200\n",
      " - 0s - loss: 0.5534 - binary_accuracy: 0.9651 - precision_score: 0.9922 - recall_score: 0.8269 - f1: 0.9020\n",
      "Epoch 138/200\n",
      " - 0s - loss: 0.5850 - binary_accuracy: 0.9651 - precision_score: 1.0000 - recall_score: 0.8299 - f1: 0.9067\n",
      "Epoch 139/200\n",
      " - 0s - loss: 0.5897 - binary_accuracy: 0.9651 - precision_score: 0.9922 - recall_score: 0.8393 - f1: 0.9054\n",
      "Epoch 140/200\n",
      " - 0s - loss: 0.5397 - binary_accuracy: 0.9612 - precision_score: 0.9578 - recall_score: 0.8560 - f1: 0.9028\n",
      "Epoch 141/200\n",
      " - 0s - loss: 0.6522 - binary_accuracy: 0.9612 - precision_score: 0.9674 - recall_score: 0.8259 - f1: 0.8910\n",
      "Epoch 142/200\n",
      " - 0s - loss: 0.5237 - binary_accuracy: 0.9535 - precision_score: 1.0000 - recall_score: 0.7621 - f1: 0.8626\n",
      "Epoch 143/200\n",
      " - 0s - loss: 0.5800 - binary_accuracy: 0.9574 - precision_score: 1.0000 - recall_score: 0.7889 - f1: 0.8816\n",
      "Epoch 144/200\n",
      " - 0s - loss: 0.4474 - binary_accuracy: 0.9651 - precision_score: 0.9823 - recall_score: 0.8434 - f1: 0.9015\n",
      "Epoch 145/200\n",
      " - 0s - loss: 0.6702 - binary_accuracy: 0.9574 - precision_score: 0.9471 - recall_score: 0.8246 - f1: 0.8815\n",
      "Epoch 146/200\n",
      " - 0s - loss: 0.6568 - binary_accuracy: 0.9535 - precision_score: 0.8960 - recall_score: 0.8643 - f1: 0.8796\n",
      "Epoch 147/200\n",
      " - 0s - loss: 0.5293 - binary_accuracy: 0.9651 - precision_score: 0.9922 - recall_score: 0.8420 - f1: 0.9109\n",
      "Epoch 148/200\n",
      " - 0s - loss: 0.6377 - binary_accuracy: 0.9574 - precision_score: 0.9526 - recall_score: 0.8273 - f1: 0.8854\n",
      "Epoch 149/200\n",
      " - 0s - loss: 0.4712 - binary_accuracy: 0.9690 - precision_score: 0.9922 - recall_score: 0.8622 - f1: 0.9218\n",
      "Epoch 150/200\n",
      " - 0s - loss: 0.6160 - binary_accuracy: 0.9574 - precision_score: 0.9499 - recall_score: 0.8273 - f1: 0.8843\n",
      "Epoch 151/200\n",
      " - 0s - loss: 0.6079 - binary_accuracy: 0.9612 - precision_score: 0.9686 - recall_score: 0.8246 - f1: 0.8903\n",
      "Epoch 152/200\n",
      " - 0s - loss: 0.6368 - binary_accuracy: 0.9574 - precision_score: 0.9569 - recall_score: 0.8363 - f1: 0.8918\n",
      "Epoch 153/200\n",
      " - 0s - loss: 0.5953 - binary_accuracy: 0.9612 - precision_score: 0.9922 - recall_score: 0.7988 - f1: 0.8836\n",
      "Epoch 154/200\n",
      " - 0s - loss: 0.5789 - binary_accuracy: 0.9612 - precision_score: 0.9633 - recall_score: 0.8630 - f1: 0.9096\n",
      "Epoch 155/200\n",
      " - 0s - loss: 0.6207 - binary_accuracy: 0.9574 - precision_score: 0.9697 - recall_score: 0.8082 - f1: 0.8816\n",
      "Epoch 156/200\n",
      " - 0s - loss: 0.5381 - binary_accuracy: 0.9651 - precision_score: 0.9739 - recall_score: 0.8436 - f1: 0.9041\n",
      "Epoch 157/200\n",
      " - 0s - loss: 0.5918 - binary_accuracy: 0.9612 - precision_score: 0.9697 - recall_score: 0.8310 - f1: 0.8940\n",
      "Epoch 158/200\n",
      " - 0s - loss: 0.6555 - binary_accuracy: 0.9574 - precision_score: 0.9526 - recall_score: 0.8426 - f1: 0.8926\n",
      "Epoch 159/200\n",
      " - 0s - loss: 0.5923 - binary_accuracy: 0.9574 - precision_score: 0.9724 - recall_score: 0.8075 - f1: 0.8820\n",
      "Epoch 160/200\n",
      " - 0s - loss: 0.5352 - binary_accuracy: 0.9612 - precision_score: 0.9506 - recall_score: 0.8437 - f1: 0.8935\n",
      "Epoch 161/200\n",
      " - 0s - loss: 0.5633 - binary_accuracy: 0.9651 - precision_score: 0.9922 - recall_score: 0.8398 - f1: 0.9086\n",
      "Epoch 162/200\n",
      " - 0s - loss: 0.5247 - binary_accuracy: 0.9690 - precision_score: 1.0000 - recall_score: 0.8523 - f1: 0.9202\n",
      "Epoch 163/200\n",
      " - 0s - loss: 0.6512 - binary_accuracy: 0.9574 - precision_score: 0.9537 - recall_score: 0.8256 - f1: 0.8849\n",
      "Epoch 164/200\n",
      " - 0s - loss: 0.5429 - binary_accuracy: 0.9574 - precision_score: 0.9526 - recall_score: 0.8301 - f1: 0.8871\n",
      "Epoch 165/200\n",
      " - 0s - loss: 0.6540 - binary_accuracy: 0.9612 - precision_score: 0.9661 - recall_score: 0.8204 - f1: 0.8872\n",
      "Epoch 166/200\n",
      " - 0s - loss: 0.7353 - binary_accuracy: 0.9535 - precision_score: 0.9302 - recall_score: 0.8287 - f1: 0.8762\n",
      "Epoch 167/200\n",
      " - 0s - loss: 0.5903 - binary_accuracy: 0.9574 - precision_score: 0.9922 - recall_score: 0.7855 - f1: 0.8763\n",
      "Epoch 168/200\n",
      " - 0s - loss: 0.5785 - binary_accuracy: 0.9651 - precision_score: 0.9922 - recall_score: 0.8398 - f1: 0.9086\n",
      "Epoch 169/200\n",
      " - 0s - loss: 0.5193 - binary_accuracy: 0.9690 - precision_score: 0.9922 - recall_score: 0.8450 - f1: 0.9127\n",
      "Epoch 170/200\n",
      " - 0s - loss: 0.5982 - binary_accuracy: 0.9574 - precision_score: 0.9922 - recall_score: 0.7897 - f1: 0.8794\n",
      "Epoch 171/200\n",
      " - 0s - loss: 0.5543 - binary_accuracy: 0.9535 - precision_score: 0.9739 - recall_score: 0.7904 - f1: 0.8724\n",
      "Epoch 172/200\n",
      " - 0s - loss: 0.6272 - binary_accuracy: 0.9574 - precision_score: 0.9661 - recall_score: 0.8090 - f1: 0.8804\n",
      "Epoch 173/200\n",
      " - 0s - loss: 0.4932 - binary_accuracy: 0.9690 - precision_score: 0.9922 - recall_score: 0.8650 - f1: 0.9242\n",
      "Epoch 174/200\n",
      " - 0s - loss: 0.5375 - binary_accuracy: 0.9651 - precision_score: 0.9922 - recall_score: 0.8499 - f1: 0.9146\n",
      "Epoch 175/200\n",
      " - 0s - loss: 0.5680 - binary_accuracy: 0.9612 - precision_score: 0.9922 - recall_score: 0.8247 - f1: 0.8990\n",
      "Epoch 176/200\n",
      " - 0s - loss: 0.5297 - binary_accuracy: 0.9690 - precision_score: 1.0000 - recall_score: 0.8453 - f1: 0.9152\n",
      "Epoch 177/200\n",
      " - 0s - loss: 0.4850 - binary_accuracy: 0.9690 - precision_score: 0.9809 - recall_score: 0.8696 - f1: 0.9218\n",
      "Epoch 178/200\n",
      " - 0s - loss: 0.6101 - binary_accuracy: 0.9535 - precision_score: 0.9327 - recall_score: 0.8269 - f1: 0.8762\n",
      "Epoch 179/200\n",
      " - 0s - loss: 0.5566 - binary_accuracy: 0.9651 - precision_score: 1.0000 - recall_score: 0.8363 - f1: 0.9105\n",
      "Epoch 180/200\n",
      " - 0s - loss: 0.6283 - binary_accuracy: 0.9574 - precision_score: 0.9332 - recall_score: 0.8393 - f1: 0.8826\n",
      "Epoch 181/200\n",
      " - 0s - loss: 0.6744 - binary_accuracy: 0.9574 - precision_score: 0.9476 - recall_score: 0.8226 - f1: 0.8806\n",
      "Epoch 182/200\n",
      " - 0s - loss: 0.5626 - binary_accuracy: 0.9612 - precision_score: 0.9745 - recall_score: 0.8245 - f1: 0.8930\n",
      "Epoch 183/200\n",
      " - 0s - loss: 0.5843 - binary_accuracy: 0.9612 - precision_score: 0.9802 - recall_score: 0.8318 - f1: 0.8998\n",
      "Epoch 184/200\n",
      " - 0s - loss: 0.5203 - binary_accuracy: 0.9690 - precision_score: 0.9922 - recall_score: 0.8475 - f1: 0.9141\n",
      "Epoch 185/200\n",
      " - 0s - loss: 0.4789 - binary_accuracy: 0.9651 - precision_score: 1.0000 - recall_score: 0.8256 - f1: 0.9042\n",
      "Epoch 186/200\n",
      " - 0s - loss: 0.4668 - binary_accuracy: 0.9651 - precision_score: 0.9516 - recall_score: 0.8669 - f1: 0.9051\n",
      "Epoch 187/200\n",
      " - 0s - loss: 0.5458 - binary_accuracy: 0.9612 - precision_score: 0.9508 - recall_score: 0.8450 - f1: 0.8948\n",
      "Epoch 188/200\n",
      " - 0s - loss: 0.5556 - binary_accuracy: 0.9651 - precision_score: 1.0000 - recall_score: 0.8304 - f1: 0.9061\n",
      "Epoch 189/200\n",
      " - 0s - loss: 0.5538 - binary_accuracy: 0.9612 - precision_score: 0.9509 - recall_score: 0.8464 - f1: 0.8953\n",
      "Epoch 190/200\n",
      " - 0s - loss: 0.3549 - binary_accuracy: 0.9651 - precision_score: 0.9526 - recall_score: 0.8636 - f1: 0.9058\n",
      "Epoch 191/200\n",
      " - 0s - loss: 0.5445 - binary_accuracy: 0.9535 - precision_score: 0.9139 - recall_score: 0.8289 - f1: 0.8674\n",
      "Epoch 192/200\n",
      " - 0s - loss: 0.5501 - binary_accuracy: 0.9612 - precision_score: 0.9752 - recall_score: 0.8282 - f1: 0.8956\n",
      "Epoch 193/200\n",
      " - 0s - loss: 0.4662 - binary_accuracy: 0.9690 - precision_score: 0.9829 - recall_score: 0.8671 - f1: 0.9212\n",
      "Epoch 194/200\n",
      " - 0s - loss: 0.5498 - binary_accuracy: 0.9612 - precision_score: 1.0000 - recall_score: 0.8111 - f1: 0.8955\n",
      "Epoch 195/200\n",
      " - 0s - loss: 0.3899 - binary_accuracy: 0.9729 - precision_score: 0.9697 - recall_score: 0.8791 - f1: 0.9212\n",
      "Epoch 196/200\n",
      " - 0s - loss: 0.5898 - binary_accuracy: 0.9535 - precision_score: 0.9266 - recall_score: 0.8259 - f1: 0.8733\n",
      "Epoch 197/200\n",
      " - 0s - loss: 0.4072 - binary_accuracy: 0.9651 - precision_score: 0.9580 - recall_score: 0.8660 - f1: 0.9094\n",
      "Epoch 198/200\n",
      " - 0s - loss: 0.4531 - binary_accuracy: 0.9690 - precision_score: 0.9745 - recall_score: 0.8636 - f1: 0.9093\n",
      "Epoch 199/200\n",
      " - 0s - loss: 0.5165 - binary_accuracy: 0.9690 - precision_score: 0.9922 - recall_score: 0.8434 - f1: 0.9117\n",
      "Epoch 200/200\n",
      " - 0s - loss: 0.4502 - binary_accuracy: 0.9690 - precision_score: 0.9724 - recall_score: 0.8641 - f1: 0.9151\n"
     ]
    }
   ],
   "source": [
    "    model_file_path = 'np_semantic_segmentation.h5'\n",
    "    num_epochs = 200\n",
    "    model = NpSemanticSegClassifier(num_epochs=200, callback_args=None)\n",
    "    input_dim = data_set.train_set_x.shape[1]\n",
    "    model.build(input_dim)\n",
    "    model.fit(data_set.train_set)\n"
   ]
  },
  {
   "cell_type": "markdown",
   "metadata": {},
   "source": [
    "Great! We now have a MLP classifier for collocations. Let's evaluate it on the val_data_set:"
   ]
  },
  {
   "cell_type": "code",
   "execution_count": 23,
   "metadata": {},
   "outputs": [
    {
     "name": "stdout",
     "output_type": "stream",
     "text": [
      "Saved model to disk\n",
      "loss = 0.6%\n",
      "Test binary_accuracy rate = 84.6%\n",
      "Test precision rate = 75.0%\n",
      "Test recall rate = 42.9%\n",
      "Test f1 rate = 54.5%\n"
     ]
    }
   ],
   "source": [
    "val_dataset = data_set = NpSemanticSegData(val_output_path, train_to_test_ratio=1)\n",
    "\n",
    "loss, binary_accuracy, precision, recall, f1 = model.eval(val_dataset.train_set)\n",
    "print('loss = %.1f%%' % (loss))\n",
    "print('Test binary_accuracy rate = %.1f%%' % (binary_accuracy * 100))\n",
    "print('Test precision rate = %.1f%%' % (precision * 100))\n",
    "print('Test recall rate = %.1f%%' % (recall * 100))\n",
    "print('Test f1 rate = %.1f%%' % (f1 * 100))\n"
   ]
  }
 ],
 "metadata": {
  "kernelspec": {
   "display_name": "Python 3",
   "language": "python",
   "name": "python3"
  },
  "language_info": {
   "codemirror_mode": {
    "name": "ipython",
    "version": 3
   },
   "file_extension": ".py",
   "mimetype": "text/x-python",
   "name": "python",
   "nbconvert_exporter": "python",
   "pygments_lexer": "ipython3",
   "version": "3.6.3"
  }
 },
 "nbformat": 4,
 "nbformat_minor": 1
}
